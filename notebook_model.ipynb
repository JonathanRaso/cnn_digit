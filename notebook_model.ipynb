{
 "cells": [
  {
   "cell_type": "markdown",
   "id": "ad553441",
   "metadata": {},
   "source": [
    "# Notebook model et itérations"
   ]
  },
  {
   "cell_type": "markdown",
   "id": "2d790cc9",
   "metadata": {},
   "source": [
    "## Sommaire"
   ]
  },
  {
   "cell_type": "markdown",
   "id": "43a9630d",
   "metadata": {},
   "source": [
    "## Imports"
   ]
  },
  {
   "cell_type": "code",
   "execution_count": 1,
   "id": "9cba53c0",
   "metadata": {},
   "outputs": [],
   "source": [
    "import tensorflow as tf\n",
    "from tensorflow import keras\n",
    "import requests\n",
    "from PIL import Image\n",
    "# from tensorflow.keras.models import Sequential\n",
    "# from tensorflow.keras.layers import Dense, Conv2D, Dropout, Flatten, MaxPooling2D\n",
    "from keras.models import Sequential\n",
    "from keras.layers import Dense, Conv2D, Dropout, Flatten, MaxPooling2D\n",
    "from keras.utils.np_utils import to_categorical\n",
    "from tensorflow.keras.optimizers import Adam\n",
    "from keras.callbacks import EarlyStopping\n",
    "# from tensorflow.keras.preprocessing.image import ImageDataGenerator\n",
    "import pandas as pd\n",
    "import numpy as np\n",
    "import seaborn as sns\n",
    "import matplotlib.pyplot as plt\n",
    "import matplotlib.image as img\n",
    "%matplotlib inline\n",
    "\n",
    "np.random.seed(2)\n",
    "\n",
    "from sklearn.model_selection import train_test_split\n",
    "from sklearn.metrics import confusion_matrix, classification_report\n",
    "import itertools\n",
    "\n",
    "#Setting the Theme of the data visualizer Seaborn\n",
    "sns.set(style=\"dark\",context=\"notebook\",palette=\"muted\")"
   ]
  },
  {
   "cell_type": "code",
   "execution_count": 2,
   "id": "e48d1905",
   "metadata": {
    "scrolled": true
   },
   "outputs": [],
   "source": [
    "#data_train.head()"
   ]
  },
  {
   "cell_type": "code",
   "execution_count": 3,
   "id": "c7eafa9f",
   "metadata": {},
   "outputs": [],
   "source": [
    "#y = data_train['label']\n",
    "#X = data_train.drop('label', axis=1)"
   ]
  },
  {
   "cell_type": "markdown",
   "id": "6140cba5",
   "metadata": {},
   "source": [
    "## Fonctions"
   ]
  },
  {
   "cell_type": "markdown",
   "id": "ed467191",
   "metadata": {},
   "source": [
    "#### Visulation d'image"
   ]
  },
  {
   "cell_type": "code",
   "execution_count": 4,
   "id": "d2f4a3dc",
   "metadata": {},
   "outputs": [],
   "source": [
    "def viz_num(num,X,y):\n",
    "    #Reshape the 768 values to a 28x28 image\n",
    "    image = X.values[num].reshape([28,28])\n",
    "    plt.title('Sample: %d  Label: %d' % (num, y[num]))\n",
    "    plt.imshow(image, cmap=plt.get_cmap('gray'))\n",
    "    plt.show()"
   ]
  },
  {
   "cell_type": "markdown",
   "id": "31baf667",
   "metadata": {},
   "source": [
    "#### Import de données"
   ]
  },
  {
   "cell_type": "code",
   "execution_count": 5,
   "id": "9a23e541",
   "metadata": {},
   "outputs": [],
   "source": [
    "def modify_data():\n",
    "    #Les données que nous voulons :\n",
    "    global y, X, X_train, X_test, y_train, y_test, input_shape, test_size\n",
    "    #Rentrer les chemins des fichiers :\n",
    "    print(\"Veuillez entrer le chemin du fichier d'entraînement ('train.csv' de base)\")\n",
    "    chemin_1=input()\n",
    "    print(\"Veuillez entrer le chemin du fichier de test ('test.csv' de base)\")\n",
    "    chemin_2=input()\n",
    "    #Import des données\n",
    "    data_train = pd.read_csv(chemin_1)\n",
    "    data_test = pd.read_csv(chemin_2)\n",
    "    #Séparation label/dataset\n",
    "    y = data_train['label']\n",
    "    X = data_train.drop('label', axis=1)\n",
    "    #Encoding des labels\n",
    "    y = tf.keras.utils.to_categorical(y, num_classes=10)\n",
    "    # Splitting du dataset pour le training, on peut changer le test size et random_state en appelant la fonction\n",
    "    print(\"Quel sera la répartition train/test ? (test_size : 0.1, 0.2, 0.3, 0.33...)\")\n",
    "    test_size=float(input())\n",
    "    print(\"Quel sera la seed choisit aléatoirement ? (random_state)\")\n",
    "    random_state=int(input())\n",
    "    X_train, X_test, y_train, y_test = train_test_split(X, y, test_size=test_size, random_state=random_state)\n",
    "    # Reshaping des images\n",
    "    X_train = X_train.values.reshape(X_train.shape[0], 28, 28, 1)\n",
    "    X_test = X_test.values.reshape(X_test.shape[0], 28, 28, 1)\n",
    "    input_shape = (28, 28, 1)\n",
    "    #Changement du type des données\n",
    "    X_train = X_train.astype('float32')\n",
    "    X_test = X_test.astype('float32')\n",
    "    #Scaling (normalisation) des données\n",
    "    X_train /= 255\n",
    "    X_test /= 255\n"
   ]
  },
  {
   "cell_type": "markdown",
   "id": "0b14be94",
   "metadata": {},
   "source": [
    "#### Modèle"
   ]
  },
  {
   "cell_type": "code",
   "execution_count": 6,
   "id": "73dc88ed",
   "metadata": {},
   "outputs": [],
   "source": [
    "def model():\n",
    "    #Variables que nous voulons garder\n",
    "    global history, model, couches, applatissements, lr, dropout, epochs, patience, batch_size, validation_split\n",
    "    \n",
    "    # Creating a Sequential Model and adding the layers\n",
    "    model = Sequential()\n",
    "    print(\"Combien de couches convolutionnelles et de pooling voulez vous dans le modèle ?\")\n",
    "    couches=int(input())\n",
    "    \n",
    "    for i in range(couches):\n",
    "            couche_conv_pool()\n",
    "    print(\"Combien d'opération d'applatissement voulez vous ?\")\n",
    "    applatissements=int(input())\n",
    "    for i in range(applatissements):\n",
    "            flatten()\n",
    "    print(\"Choisissez le taux de Dropout (0.1, 0.15, 0.2...)\")\n",
    "    dropout=float(input())\n",
    "    model.add(Dropout(dropout))\n",
    "    model.add(Dense(10,activation=tf.nn.softmax))\n",
    "    print(\"Sélectionnez le learning rate (0.01, 0.03, 0.001, 0.003...)\")\n",
    "    lr=float(input())\n",
    "    opt = Adam(learning_rate=lr)\n",
    "    model.compile(optimizer=opt, \n",
    "              loss='categorical_crossentropy', \n",
    "              metrics=['accuracy'])\n",
    "    print(\"Combien d'epoch voulez vous ?\")\n",
    "    epochs = int(input())\n",
    "    print(\"Pour l'early stopping, à partir de combien d'epoch voulez vous vous arrêter si aucune amélioration n'a lieu ?\")\n",
    "    patience=int(input())\n",
    "    es = EarlyStopping(monitor='val_loss', mode='min', verbose=1, patience=patience)\n",
    "    print(\"De combien sera la batch size ?\")\n",
    "    batch_size = int(input())\n",
    "    print(\"Et de combien sera la validation split ?\")\n",
    "    validation_split= float(input())\n",
    "    history = model.fit(x=X_train,y=y_train, epochs=epochs, batch_size=batch_size, validation_split=validation_split, callbacks=[es])\n",
    "    \n",
    "    model.evaluate(X_test, y_test)\n",
    "    model.summary()"
   ]
  },
  {
   "cell_type": "markdown",
   "id": "35e9890f",
   "metadata": {},
   "source": [
    "#### Les différentes couches du modèle "
   ]
  },
  {
   "cell_type": "code",
   "execution_count": 7,
   "id": "cd665fdc",
   "metadata": {},
   "outputs": [],
   "source": [
    "def couche_conv_pool():\n",
    "    global filtres\n",
    "    print(\"Entrer le nombre de filtres pour cette couche de convolution\")\n",
    "    filtres=int(input())\n",
    "    print(\"Entrer la taille du kernel, si 3 -> dimension [3,3], si 5 -> dimension [5,5]...\")\n",
    "    dimension=int(input())\n",
    "    model.add(Conv2D(filtres, kernel_size=(dimension,dimension), input_shape=input_shape))\n",
    "    model.add(MaxPooling2D(pool_size=(2, 2)))"
   ]
  },
  {
   "cell_type": "code",
   "execution_count": 8,
   "id": "be051ee5",
   "metadata": {},
   "outputs": [],
   "source": [
    "def flatten():\n",
    "    model.add(Flatten()) # Flattening the 2D arrays for fully connected layers\n",
    "    print(\"Combien voulez vous de cases applati ?\")\n",
    "    cases=int(input())\n",
    "    model.add(Dense(cases, activation=tf.nn.relu))"
   ]
  },
  {
   "cell_type": "markdown",
   "id": "928668ea",
   "metadata": {},
   "source": [
    "#### Le rapport"
   ]
  },
  {
   "cell_type": "code",
   "execution_count": 9,
   "id": "eb0d9aab",
   "metadata": {},
   "outputs": [],
   "source": [
    "def rapport():\n",
    "    global y_test, y_pred, history, model\n",
    "    y_pred = model.predict(X_test)\n",
    "    y_pred = np.argmax(y_pred, axis=1)\n",
    "    y_test = np.argmax(y_test, axis=1)\n",
    "    plot_curve1()\n",
    "    plot_curve2()\n",
    "    class_report()\n",
    "    conf_matrix()"
   ]
  },
  {
   "cell_type": "code",
   "execution_count": 10,
   "id": "0442c5a4",
   "metadata": {},
   "outputs": [],
   "source": [
    "def plot_curve1():\n",
    "    global history, test_size, couches, applatissements, lr, dropout, epochs, patience, batch_size, validation_split\n",
    "    test_size=str(test_size)\n",
    "    couches=str(couches)\n",
    "    applatissements=str(applatissements)\n",
    "    lr=str(lr)\n",
    "    dropout=str(dropout)\n",
    "    epochs=str(epochs)\n",
    "    patience=str(patience)\n",
    "    batch_size=str(batch_size)\n",
    "    validation_split=str(validation_split)\n",
    "    plt.plot(history.history['accuracy'])\n",
    "    plt.plot(history.history['val_accuracy'])\n",
    "    plt.title('Accuracy')\n",
    "    plt.ylabel('accuracy')\n",
    "    plt.xlabel('epoch')\n",
    "    plt.legend(['train', 'val'], loc='upper left')\n",
    "    plt.savefig(str(r'C:\\Users\\Simplon\\Desktop\\Travaux python\\CNN exercice data\\Image stats modèles\\curve1 test_size = '+test_size+'couches = '+couches+' flattening = '+applatissements+' dropout = '+dropout+' lr = '+lr+' epochs = '+epochs+' patience = '+patience+' batch size = '+batch_size+' validation_split = '+validation_split+'.png'), dpi=300)\n",
    "    return plt.show()"
   ]
  },
  {
   "cell_type": "code",
   "execution_count": 11,
   "id": "02da1b34",
   "metadata": {},
   "outputs": [],
   "source": [
    " def plot_curve2():\n",
    "    global history, test_size, couches, applatissements, lr, dropout, epochs, patience, batch_size, validation_split\n",
    "    test_size=str(test_size)\n",
    "    couches=str(couches)\n",
    "    applatissements=str(applatissements)\n",
    "    lr=str(lr)\n",
    "    dropout=str(dropout)\n",
    "    epochs=str(epochs)\n",
    "    patience=str(patience)\n",
    "    batch_size=str(batch_size)\n",
    "    validation_split=str(validation_split)\n",
    "    plt.plot(history.history['loss'])\n",
    "    plt.plot(history.history['val_loss'])\n",
    "    plt.title('model loss')\n",
    "    plt.ylabel('loss')\n",
    "    plt.xlabel('epoch')\n",
    "    plt.legend(['train', 'val'], loc='upper left')\n",
    "    plt.savefig(str(r'C:\\Users\\Simplon\\Desktop\\Travaux python\\CNN exercice data\\Image stats modèles\\curve2  test_size = '+test_size+'couches = '+couches+' flattening = '+applatissements+' dropout = '+dropout+' lr = '+lr+' epochs = '+epochs+' patience = '+patience+' batch size = '+batch_size+' validation_split = '+validation_split+'.png'), dpi=300)\n",
    "    return plt.show()"
   ]
  },
  {
   "cell_type": "code",
   "execution_count": 12,
   "id": "29ce4658",
   "metadata": {},
   "outputs": [],
   "source": [
    "def class_report():\n",
    "    global y_test, y_pred\n",
    "    print(classification_report(y_test, y_pred))"
   ]
  },
  {
   "cell_type": "code",
   "execution_count": 13,
   "id": "72ad2dac",
   "metadata": {},
   "outputs": [],
   "source": [
    "def conf_matrix():\n",
    "    global y_test, y_pred, test_size, couches, applatissements, lr, dropout, epochs, patience, batch_size, validation_split\n",
    "\n",
    "    test_size=str(test_size)\n",
    "    couches=str(couches)\n",
    "    applatissements=str(applatissements)\n",
    "    lr=str(lr)\n",
    "    dropout=str(dropout)\n",
    "    epochs=str(epochs)\n",
    "    patience=str(patience)\n",
    "    batch_size=str(batch_size)\n",
    "    validation_split=str(validation_split)\n",
    "    cm = confusion_matrix(y_pred, y_test)\n",
    "    p = sns.heatmap(pd.DataFrame(cm), annot=True, cmap=\"YlGnBu\" ,fmt='g')\n",
    "    plt.title('Confusion matrix', y=1.1)\n",
    "    plt.ylabel('Actual labels')\n",
    "    plt.xlabel('Predicted labels')\n",
    "    plt.savefig(str(r'C:\\Users\\Simplon\\Desktop\\Travaux python\\CNN exercice data\\Image stats modèles\\conf_matrix test_size = '+test_size+'couches = '+couches+' flattening = '+applatissements+' dropout = '+dropout+' lr = '+lr+' epochs = '+epochs+' patience = '+patience+' batch size = '+batch_size+' validation_split = '+validation_split+'.png'), dpi=300)\n",
    "    return plt.show()"
   ]
  },
  {
   "cell_type": "markdown",
   "id": "94bf564e",
   "metadata": {},
   "source": [
    "### Fitting des données "
   ]
  },
  {
   "cell_type": "markdown",
   "id": "1c2c66be",
   "metadata": {},
   "source": [
    "En appelant la fonction *modify_data* on modifie le shape, normalise et split les données pour le training.\n",
    "\n",
    "Il faut bien penser à rentrer les **deux chemins** pour les jeux de données \"train\" et \"test\", **test_size** et le **random_state**"
   ]
  },
  {
   "cell_type": "code",
   "execution_count": 14,
   "id": "8de1e633",
   "metadata": {},
   "outputs": [
    {
     "name": "stdout",
     "output_type": "stream",
     "text": [
      "Veuillez entrer le chemin du fichier d'entraînement ('train.csv' de base)\n",
      "train.csv\n",
      "Veuillez entrer le chemin du fichier de test ('test.csv' de base)\n",
      "test.csv\n",
      "Quel sera la répartition train/test ? (test_size : 0.1, 0.2, 0.3, 0.33...)\n",
      "0.17\n",
      "Quel sera la seed choisit aléatoirement ? (random_state)\n",
      "509\n"
     ]
    }
   ],
   "source": [
    "modify_data()"
   ]
  },
  {
   "cell_type": "markdown",
   "id": "81c250ab",
   "metadata": {},
   "source": [
    "## EDA"
   ]
  },
  {
   "cell_type": "code",
   "execution_count": null,
   "id": "f65497f5",
   "metadata": {
    "scrolled": false
   },
   "outputs": [],
   "source": [
    "#plt.figure(figsize=(15,7))\n",
    "#g = sns.countplot(y, palette=\"icefire\")\n",
    "#plt.title(\"Number of digit classes\")\n",
    "#y.value_counts()"
   ]
  },
  {
   "cell_type": "code",
   "execution_count": null,
   "id": "17ae53b9",
   "metadata": {},
   "outputs": [],
   "source": [
    "#y.shape"
   ]
  },
  {
   "cell_type": "markdown",
   "id": "80478f31",
   "metadata": {},
   "source": [
    "## Entraînement du modèle"
   ]
  },
  {
   "cell_type": "markdown",
   "id": "c603b6b6",
   "metadata": {},
   "source": [
    "Lancer la ligne de code ci-dessous pour chpoisir les paramètres de votre modèle"
   ]
  },
  {
   "cell_type": "code",
   "execution_count": 15,
   "id": "fd14056b",
   "metadata": {
    "scrolled": false
   },
   "outputs": [
    {
     "name": "stdout",
     "output_type": "stream",
     "text": [
      "Combien de couches convolutionnelles et de pooling voulez vous dans le modèle ?\n",
      "2\n",
      "Entrer le nombre de filtres pour cette couche de convolution\n",
      "16\n",
      "Entrer la taille du kernel, si 3 -> dimension [3,3], si 5 -> dimension [5,5]...\n",
      "3\n",
      "Entrer le nombre de filtres pour cette couche de convolution\n",
      "32\n",
      "Entrer la taille du kernel, si 3 -> dimension [3,3], si 5 -> dimension [5,5]...\n",
      "3\n",
      "Combien d'opération d'applatissement voulez vous ?\n",
      "1\n",
      "Combien voulez vous de cases applati ?\n",
      "256\n",
      "Choisissez le taux de Dropout (0.1, 0.15, 0.2...)\n",
      "0.15\n",
      "Sélectionnez le learning rate (0.01, 0.03, 0.001, 0.003...)\n",
      "0.0003\n",
      "Combien d'epoch voulez vous ?\n",
      "50\n",
      "Pour l'early stopping, à partir de combien d'epoch voulez vous vous arrêter si aucune amélioration n'a lieu ?\n",
      "10\n",
      "De combien sera la batch size ?\n",
      "32\n",
      "Et de combien sera la validation split ?\n",
      "0.1\n",
      "Epoch 1/50\n",
      "981/981 [==============================] - 21s 20ms/step - loss: 0.3760 - accuracy: 0.8949 - val_loss: 0.1296 - val_accuracy: 0.9607\n",
      "Epoch 2/50\n",
      "981/981 [==============================] - 20s 21ms/step - loss: 0.1101 - accuracy: 0.9661 - val_loss: 0.0857 - val_accuracy: 0.9759\n",
      "Epoch 3/50\n",
      "981/981 [==============================] - 21s 21ms/step - loss: 0.0697 - accuracy: 0.9800 - val_loss: 0.0608 - val_accuracy: 0.9814\n",
      "Epoch 4/50\n",
      "981/981 [==============================] - 20s 20ms/step - loss: 0.0517 - accuracy: 0.9835 - val_loss: 0.0579 - val_accuracy: 0.9814\n",
      "Epoch 5/50\n",
      "981/981 [==============================] - 17s 17ms/step - loss: 0.0399 - accuracy: 0.9872 - val_loss: 0.0492 - val_accuracy: 0.9845\n",
      "Epoch 6/50\n",
      "981/981 [==============================] - 17s 17ms/step - loss: 0.0310 - accuracy: 0.9900 - val_loss: 0.0551 - val_accuracy: 0.9848\n",
      "Epoch 7/50\n",
      "981/981 [==============================] - 16s 17ms/step - loss: 0.0258 - accuracy: 0.9918 - val_loss: 0.0480 - val_accuracy: 0.9880\n",
      "Epoch 8/50\n",
      "981/981 [==============================] - 16s 17ms/step - loss: 0.0203 - accuracy: 0.9934 - val_loss: 0.0467 - val_accuracy: 0.9871\n",
      "Epoch 9/50\n",
      "981/981 [==============================] - 16s 17ms/step - loss: 0.0182 - accuracy: 0.9945 - val_loss: 0.0462 - val_accuracy: 0.9882\n",
      "Epoch 10/50\n",
      "981/981 [==============================] - 17s 17ms/step - loss: 0.0143 - accuracy: 0.9959 - val_loss: 0.0491 - val_accuracy: 0.9880\n",
      "Epoch 11/50\n",
      "981/981 [==============================] - 17s 17ms/step - loss: 0.0121 - accuracy: 0.9960 - val_loss: 0.0502 - val_accuracy: 0.9877\n",
      "Epoch 12/50\n",
      "981/981 [==============================] - 16s 17ms/step - loss: 0.0099 - accuracy: 0.9969 - val_loss: 0.0512 - val_accuracy: 0.9877\n",
      "Epoch 13/50\n",
      "981/981 [==============================] - 17s 17ms/step - loss: 0.0095 - accuracy: 0.9973 - val_loss: 0.0536 - val_accuracy: 0.9880\n",
      "Epoch 14/50\n",
      "981/981 [==============================] - 16s 17ms/step - loss: 0.0084 - accuracy: 0.9972 - val_loss: 0.0562 - val_accuracy: 0.9874\n",
      "Epoch 15/50\n",
      "981/981 [==============================] - 17s 17ms/step - loss: 0.0068 - accuracy: 0.9980 - val_loss: 0.0505 - val_accuracy: 0.9900\n",
      "Epoch 16/50\n",
      "981/981 [==============================] - 17s 17ms/step - loss: 0.0051 - accuracy: 0.9987 - val_loss: 0.0592 - val_accuracy: 0.9888\n",
      "Epoch 17/50\n",
      "981/981 [==============================] - 18s 19ms/step - loss: 0.0061 - accuracy: 0.9982 - val_loss: 0.0567 - val_accuracy: 0.9897\n",
      "Epoch 18/50\n",
      "981/981 [==============================] - 17s 18ms/step - loss: 0.0049 - accuracy: 0.9983 - val_loss: 0.0655 - val_accuracy: 0.9865\n",
      "Epoch 19/50\n",
      "981/981 [==============================] - 16s 17ms/step - loss: 0.0041 - accuracy: 0.9988 - val_loss: 0.0753 - val_accuracy: 0.9854\n",
      "Epoch 00019: early stopping\n",
      "224/224 [==============================] - 1s 6ms/step - loss: 0.0592 - accuracy: 0.9867\n",
      "Model: \"sequential\"\n",
      "_________________________________________________________________\n",
      " Layer (type)                Output Shape              Param #   \n",
      "=================================================================\n",
      " conv2d (Conv2D)             (None, 26, 26, 16)        160       \n",
      "                                                                 \n",
      " max_pooling2d (MaxPooling2D  (None, 13, 13, 16)       0         \n",
      " )                                                               \n",
      "                                                                 \n",
      " conv2d_1 (Conv2D)           (None, 11, 11, 32)        4640      \n",
      "                                                                 \n",
      " max_pooling2d_1 (MaxPooling  (None, 5, 5, 32)         0         \n",
      " 2D)                                                             \n",
      "                                                                 \n",
      " flatten (Flatten)           (None, 800)               0         \n",
      "                                                                 \n",
      " dense (Dense)               (None, 256)               205056    \n",
      "                                                                 \n",
      " dropout (Dropout)           (None, 256)               0         \n",
      "                                                                 \n",
      " dense_1 (Dense)             (None, 10)                2570      \n",
      "                                                                 \n",
      "=================================================================\n",
      "Total params: 212,426\n",
      "Trainable params: 212,426\n",
      "Non-trainable params: 0\n",
      "_________________________________________________________________\n"
     ]
    }
   ],
   "source": [
    "model()"
   ]
  },
  {
   "cell_type": "markdown",
   "id": "4ff43091",
   "metadata": {},
   "source": [
    "## Rapport du modèle"
   ]
  },
  {
   "cell_type": "markdown",
   "id": "9e7778e3",
   "metadata": {},
   "source": [
    "Lancer la fonction suivante permet d'afficher les différentes performances du modèle, afin de l'évaluer et de comparer à d'autres essais.\n",
    "\n",
    "*(Nous allons travailler sur la possibilité d'enregistrer les images et les mettres dans un fichier)*"
   ]
  },
  {
   "cell_type": "code",
   "execution_count": 16,
   "id": "d0689c44",
   "metadata": {
    "scrolled": false
   },
   "outputs": [
    {
     "data": {
      "image/png": "[encoded data removed]",
      "text/plain": [
       "<Figure size 432x288 with 1 Axes>"
      ]
     },
     "metadata": {},
     "output_type": "display_data"
    },
    {
     "data": {
      "image/png": "[encoded data removed]",
      "text/plain": [
       "<Figure size 432x288 with 1 Axes>"
      ]
     },
     "metadata": {},
     "output_type": "display_data"
    },
    {
     "name": "stdout",
     "output_type": "stream",
     "text": [
      "              precision    recall  f1-score   support\n",
      "\n",
      "           0       1.00      0.98      0.99       692\n",
      "           1       1.00      0.99      1.00       779\n",
      "           2       0.98      1.00      0.99       689\n",
      "           3       0.99      0.98      0.99       725\n",
      "           4       0.98      0.99      0.98       683\n",
      "           5       0.98      0.99      0.98       646\n",
      "           6       0.98      0.99      0.98       694\n",
      "           7       0.99      0.99      0.99       792\n",
      "           8       0.98      0.99      0.99       705\n",
      "           9       0.98      0.98      0.98       736\n",
      "\n",
      "    accuracy                           0.99      7141\n",
      "   macro avg       0.99      0.99      0.99      7141\n",
      "weighted avg       0.99      0.99      0.99      7141\n",
      "\n"
     ]
    },
    {
     "data": {
      "image/png": "[encoded data removed]",
      "text/plain": [
       "<Figure size 432x288 with 2 Axes>"
      ]
     },
     "metadata": {},
     "output_type": "display_data"
    }
   ],
   "source": [
    "rapport()"
   ]
  },
  {
   "cell_type": "code",
   "execution_count": null,
   "id": "263059ab",
   "metadata": {},
   "outputs": [],
   "source": [
    "model.save(\"first_model.h5\")"
   ]
  }
 ],
 "metadata": {
  "kernelspec": {
   "display_name": "Python 3",
   "language": "python",
   "name": "python3"
  },
  "language_info": {
   "codemirror_mode": {
    "name": "ipython",
    "version": 3
   },
   "file_extension": ".py",
   "mimetype": "text/x-python",
   "name": "python",
   "nbconvert_exporter": "python",
   "pygments_lexer": "ipython3",
   "version": "3.8.8"
  },
  "toc": {
   "base_numbering": 1,
   "nav_menu": {},
   "number_sections": true,
   "sideBar": true,
   "skip_h1_title": false,
   "title_cell": "Table of Contents",
   "title_sidebar": "Contents",
   "toc_cell": false,
   "toc_position": {},
   "toc_section_display": true,
   "toc_window_display": false
  },
  "varInspector": {
   "cols": {
    "lenName": 16,
    "lenType": 16,
    "lenVar": 40
   },
   "kernels_config": {
    "python": {
     "delete_cmd_postfix": "",
     "delete_cmd_prefix": "del ",
     "library": "var_list.py",
     "varRefreshCmd": "print(var_dic_list())"
    },
    "r": {
     "delete_cmd_postfix": ") ",
     "delete_cmd_prefix": "rm(",
     "library": "var_list.r",
     "varRefreshCmd": "cat(var_dic_list()) "
    }
   },
   "types_to_exclude": [
    "module",
    "function",
    "builtin_function_or_method",
    "instance",
    "_Feature"
   ],
   "window_display": false
  }
 },
 "nbformat": 4,
 "nbformat_minor": 5
}
